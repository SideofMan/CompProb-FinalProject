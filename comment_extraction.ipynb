{
 "cells": [
  {
   "cell_type": "code",
   "execution_count": 22,
   "metadata": {},
   "outputs": [],
   "source": [
    "import praw\n",
    "from datetime import datetime\n",
    "import csv\n",
    "\n",
    "# please make sure to type in username/password below before running\n",
    "\n",
    "username = \"\"\n",
    "password = \"\"\n",
    "client_id = \"e5-5cyBAGG7cgQ\"\n",
    "client_secret = \"T59P-yIKbKG9DaVv_zqqrWx72JAJPw\"\n",
    "\n",
    "reddit = praw.Reddit(\n",
    "    client_id=client_id,\n",
    "    client_secret=client_secret,\n",
    "    password=password,\n",
    "    user_agent=\"Comment Extraction (by u/sideofman)\",\n",
    "    username=username,\n",
    ")\n",
    "\n",
    "url = \"https://www.reddit.com/r/soccer/comments/128ji5t/match_thread_manchester_city_vs_liverpool_english/\"\n",
    "submission = reddit.submission(url=url)\n",
    "\n",
    "submission.comments.replace_more(limit=None)\n",
    "timestamps=[None]*5000\n",
    "len(submission.comments)\n",
    "timestamps=[top_level_comment.created_utc for top_level_comment in submission.comments]"
   ]
  },
  {
   "cell_type": "markdown",
   "metadata": {},
   "source": [
    "In this match at 06:30 central time on April 1st, 2023, Man City defeated Liverpool 4-1.\n",
    "\n",
    "The match started at 06:30, there were:\n",
    "- 2 minutes of stoppage time in the first half\n",
    "- 15 minutes of halftime\n",
    "- 3 minutes of stoppage time at the end of the game\n",
    "\n",
    "The estimated end time was 110 minutes after 06:30, which comes out to around 08:20\n",
    "\n",
    "There were goals scored at minutes:\n",
    "- 17 (Mo Salah)\n",
    "- 27 (Julian Alvarez)\n",
    "- 46 (Kevin De Bruyne)\n",
    "- 53 (Ilkay Gundogan)\n",
    "- 74 (Jack Grealish)\n",
    "\n",
    "Converting this to time from the start of the match (add 17 to second half goals), we get:\n",
    "- 17\n",
    "- 27\n",
    "- 63\n",
    "- 70\n",
    "- 91\n",
    "\n",
    "Note that around the 34th minute mark, Rodri committed a foul that likely should have been his second yellow. He was not booked for it, which is likely causing the spike in comments around that time."
   ]
  },
  {
   "cell_type": "code",
   "execution_count": 51,
   "metadata": {},
   "outputs": [],
   "source": [
    "# Write to a CSV file now\n",
    "import csv\n",
    "\n",
    "with open('comments_timestamps.csv', 'w', newline='') as file:\n",
    "    # Step 4: Using csv.writer to write the list to the CSV file\n",
    "    writer = csv.writer(file)\n",
    "    for item in timestamps_sorted:\n",
    "        writer.writerow([item]) # Use writerow for single list"
   ]
  },
  {
   "cell_type": "markdown",
   "metadata": {},
   "source": [
    "The starting time of the match in UTC was 1680348600.0. The ending time of the match was the starting time plus 110 minutes (add 110*60 seconds).\n",
    "\n",
    "If we wish to convert between UTC and minutes we can do so as follows. $u$ stands for UTC time, and $m$ stands for minutes since the match has started.\n",
    "\n",
    "\\begin{align*}\n",
    "    start &= 1680348600.0\\\\\n",
    "    end &= 1680355200.0\\\\\n",
    "    u &= start + \\frac{end - start}{110\\cdot 60} \\cdot m\\\\\n",
    "    m &= (u - start)/60\n",
    "\\end{align*}"
   ]
  }
 ],
 "metadata": {
  "kernelspec": {
   "display_name": "Python 3",
   "language": "python",
   "name": "python3"
  },
  "language_info": {
   "codemirror_mode": {
    "name": "ipython",
    "version": 3
   },
   "file_extension": ".py",
   "mimetype": "text/x-python",
   "name": "python",
   "nbconvert_exporter": "python",
   "pygments_lexer": "ipython3",
   "version": "3.10.11"
  }
 },
 "nbformat": 4,
 "nbformat_minor": 2
}
